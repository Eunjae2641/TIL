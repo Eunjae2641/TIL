{
 "cells": [
  {
   "cell_type": "code",
   "execution_count": null,
   "metadata": {},
   "outputs": [],
   "source": [
    "code = \"NY.GDP.PCAP.PP.KD\"\n",
    "matches = wb.search('gdp.*capita.*const')\n",
    "data = wb.download(indicator=code, country=['JPN','KOR'], start=2011, end=2018)\n",
    "data = data.reset_index(drop=False)\n",
    "sns.lineplot(x=\"year\", y=code, hue=\"country\", data=data)"
   ]
  }
 ],
 "metadata": {
  "language_info": {
   "name": "plaintext"
  },
  "orig_nbformat": 4
 },
 "nbformat": 4,
 "nbformat_minor": 2
}
