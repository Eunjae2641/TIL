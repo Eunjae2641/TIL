{
 "cells": [
  {
   "cell_type": "code",
   "execution_count": null,
   "metadata": {},
   "outputs": [],
   "source": [
    "from urllib.request import urlopen\n",
    "import json\n",
    "import pandas as pd \n",
    "\n",
    "url = \"https://www.alphavantage.co/query?function=FX_DAILY&from_symbol=USD&to_symbol=KRW&outputsize=compact&apikey=\"+ALPHAVATNGE_API_KEY\n",
    "result = urlopen(url)\n",
    "result_read = result.read()\n",
    "\n",
    "df = pd.DataFrame(json.loads(result_read)[\"Time Series FX(Daily)\"]).T\n",
    "df.head()"
   ]
  }
 ],
 "metadata": {
  "language_info": {
   "name": "plaintext"
  },
  "orig_nbformat": 4
 },
 "nbformat": 4,
 "nbformat_minor": 2
}
