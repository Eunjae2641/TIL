{
 "cells": [
  {
   "cell_type": "code",
   "execution_count": null,
   "metadata": {},
   "outputs": [],
   "source": [
    "from tqdm import tqdm\n",
    "\n",
    "com_re = list()\n",
    "\n",
    "for t in tqdm(xml_item) :\n",
    "  price=t.find(\"거래금액\").text\n",
    "  bd_size=t.find(\"건물면적\").text\n",
    "  bd_use=t.find(\"건물주용도\").text\n",
    "  try :\n",
    "    built_ym=t.find(\"건축연도\").text\n",
    "  except :\n",
    "    built_ym=\"\"\n",
    "  built_y=t.find(\"년\").text\n",
    "  built_m=t.find(\"월\").text\n",
    "  bd_type=t.find(\"유형\").text\n",
    "  built_d=t.find(\"일\").text\n",
    "  lawd_cd=t.find(\"지역코드\").text\n",
    "\n",
    "  com_re.append([price, bd_size, bd_use, built_ym, built_y, built_m, bd_type, built_d, lawd_cd])\n",
    "\n",
    "com_re\n"
   ]
  }
 ],
 "metadata": {
  "language_info": {
   "name": "python"
  },
  "orig_nbformat": 4
 },
 "nbformat": 4,
 "nbformat_minor": 2
}
