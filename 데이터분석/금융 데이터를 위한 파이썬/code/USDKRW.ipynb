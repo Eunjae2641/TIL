{
 "cells": [
  {
   "cell_type": "code",
   "execution_count": null,
   "metadata": {},
   "outputs": [],
   "source": [
    "import pandas_datareader.data as web\n",
    "\n",
    "ALPHAVANTAGE_API_KEY = \"API키 입력\"\n",
    "df_1 = web.DataReader(\"USD/KRW\", \"av-forex\", api_key=ALPHAVANTAGE_API_KEY)\n",
    "df_1.head()"
   ]
  }
 ],
 "metadata": {
  "language_info": {
   "name": "plaintext"
  },
  "orig_nbformat": 4
 },
 "nbformat": 4,
 "nbformat_minor": 2
}
