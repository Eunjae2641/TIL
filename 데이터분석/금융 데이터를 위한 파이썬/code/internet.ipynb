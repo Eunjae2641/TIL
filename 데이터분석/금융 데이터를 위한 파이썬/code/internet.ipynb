{
 "cells": [
  {
   "cell_type": "code",
   "execution_count": null,
   "metadata": {},
   "outputs": [],
   "source": [
    "from urllib.request import urlopen\n",
    "\n",
    "API_KEY = \"부여받은 인증키를 입력합니다.\"\n",
    "LAWD_CD = \"11110\"\n",
    "DEAL_YMD = \"201512\"\n",
    "\n",
    "url = \"http://openapi.molit.go.kr/OpenAPI_ToolInstallPackage/service/rest/RTMSOBJSvc/getRTMDataSvcNrgTrade?serviceKey={}&LAWD_CD={}&DEAL_YMD={}\".format(API_KEY,LAWD_CD,DEAL_YMD)\n",
    "\n",
    "result = urlopen(url)"
   ]
  }
 ],
 "metadata": {
  "language_info": {
   "name": "python"
  },
  "orig_nbformat": 4
 },
 "nbformat": 4,
 "nbformat_minor": 2
}
