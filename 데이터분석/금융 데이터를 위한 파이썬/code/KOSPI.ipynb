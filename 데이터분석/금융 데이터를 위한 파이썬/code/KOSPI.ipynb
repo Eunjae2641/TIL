{
 "cells": [
  {
   "cell_type": "code",
   "execution_count": null,
   "metadata": {},
   "outputs": [],
   "source": [
    "import FinanceDataReader as fdr \n",
    "\n",
    "# KOSPI 종목 전체\n",
    "kospi_cd = fdr.StockListing('KOSPI')\n",
    "kospi_cd.head()"
   ]
  }
 ],
 "metadata": {
  "language_info": {
   "name": "plaintext"
  },
  "orig_nbformat": 4
 },
 "nbformat": 4,
 "nbformat_minor": 2
}
