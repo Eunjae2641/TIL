{
 "cells": [
  {
   "cell_type": "code",
   "execution_count": null,
   "metadata": {},
   "outputs": [],
   "source": [
    "import pandas_datareader.data as web\n",
    "import datetime\n",
    "\n",
    "start = datetime.datetime(2015,1,1)\n",
    "end = datetime.datetime(2019,12,31)\n",
    "\n",
    "oil = web.DataReader('DCOILWTICO', 'fred', start, end)\n",
    "oil.head()"
   ]
  }
 ],
 "metadata": {
  "language_info": {
   "name": "plaintext"
  },
  "orig_nbformat": 4
 },
 "nbformat": 4,
 "nbformat_minor": 2
}
